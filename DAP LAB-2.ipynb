{
 "cells": [
  {
   "cell_type": "code",
   "execution_count": 1,
   "id": "267713b0",
   "metadata": {},
   "outputs": [
    {
     "name": "stdout",
     "output_type": "stream",
     "text": [
      "Hello World!   Python Programming\n",
      "H\n",
      "yth\n",
      "Updated String :-  HelloAdarsh\n"
     ]
    }
   ],
   "source": [
    "#To print “hello world”, string concatenation, and access strings using index\n",
    "var1 = 'Hello World!'\n",
    "var2 = \"Python Programming\"\n",
    "\n",
    "#Printing String\n",
    "print(var1,\" \",var2)\n",
    "\n",
    "#Accessing string using index\n",
    "print (var1[0])\n",
    "print (var2[1:4])\n",
    "\n",
    "#String Concatenation\n",
    "print (\"Updated String :- \", var1[0:5] + 'Adarsh')"
   ]
  },
  {
   "cell_type": "code",
   "execution_count": 2,
   "id": "35b429fd",
   "metadata": {},
   "outputs": [
    {
     "name": "stdout",
     "output_type": "stream",
     "text": [
      "Please Enter Your Own String : adarsh\n",
      "adarsh\n"
     ]
    }
   ],
   "source": [
    "#To take user input of string and print it\n",
    "str1 = input(\"Please Enter Your Own String : \")\n",
    "\n",
    "#Printing user input\n",
    "print(str1)"
   ]
  },
  {
   "cell_type": "code",
   "execution_count": 3,
   "id": "85201380",
   "metadata": {},
   "outputs": [
    {
     "name": "stdout",
     "output_type": "stream",
     "text": [
      "str2.capitalize() :  Wowww......this is string example!!!\n",
      "str2.center(40, 'a') :  **wowww......this is string example!!!**\n",
      "str2.count(sub, 4, 40) :  3\n",
      "13\n"
     ]
    }
   ],
   "source": [
    "#String operations using functions such as capitalize(), center(), count(), find()\n",
    "str2 = \"wowww......this is string example!!!\"\n",
    "\n",
    "#capitalize() method returns a copy of the string with only its first character capitalized.\n",
    "print (\"str2.capitalize() : \", str2.capitalize())\n",
    "\n",
    "#center() returns centered in a string of length width. Padding is done using the specified fillchar.\n",
    "#Default filler is a space.\n",
    "print (\"str2.center(40, 'a') : \", str2.center(40, '*'))\n",
    "\n",
    "#count() returns the number of occurrences of substring sub in the range [start, end].\n",
    "sub = \"i\";\n",
    "print (\"str2.count(sub, 4, 40) : \", str2.count(sub, 4, 40))\n",
    "\n",
    "#find() determines if string str occurs in string, or in a substring of string if starting \n",
    "#index beg and ending index end are given.\n",
    "str3 = \"is\";\n",
    "print (str2.find(str3))"
   ]
  },
  {
   "cell_type": "code",
   "execution_count": 4,
   "id": "e8b263e1",
   "metadata": {},
   "outputs": [
    {
     "name": "stdout",
     "output_type": "stream",
     "text": [
      "15\n",
      "True\n",
      "True\n",
      "True\n",
      "True\n",
      "True\n",
      "True\n",
      "True\n",
      "True\n",
      "abc  *  *  bttt  *  *  cqweqe\n",
      "Length of the string:  32\n"
     ]
    }
   ],
   "source": [
    "#More functions such as index(), isalnum(), isdigit(), isalpha(), islower(), isnumeric()\n",
    "#isspace(), istitle(), isupper(), join(), len()\n",
    "\n",
    "#index() determines if string str occurs in string or in a substring of string if starting\n",
    "#index beg and ending index end are given.\n",
    "str1 = \"this is string example....wow!!!\"\n",
    "str2 = \"exam\"\n",
    "print (str1.index(str2, 10,32))\n",
    "\n",
    "#isalnum() checks whether the string consists of alphanumeric characters.\n",
    "str = \"this2009\";  # No space in this string\n",
    "print (str.isalnum())\n",
    "\n",
    "#isalpha() checks whether the string consists of only alphabets.\n",
    "str = \"ShabnamSharma\";  # No space & digit in this string\n",
    "print (str.isalpha())\n",
    "\n",
    "#isdigit() checks whether the string consists of only digits.\n",
    "str = \"123456\";  # Only digit in this string\n",
    "print (str.isdigit())\n",
    "\n",
    "#islower() returns true if all characters are lowercase, else returns false\n",
    "str = \"this is string example....wow!!!\";\n",
    "print (str.islower())\n",
    "\n",
    "#isnumeric() returns true if all characters are numbers, else returns false\n",
    "str = \"23443434\";\n",
    "print (str.isnumeric())\n",
    "\n",
    "#isspace() returns true if all characters are whitespaces, else returns false\n",
    "str = \"  \"; \n",
    "print (str.isspace())\n",
    "\n",
    "#istitle() returns true if all words start with uppercase character, else returns false\n",
    "str = \"This Is String Example...Wow!!!\";\n",
    "print (str.istitle())\n",
    "\n",
    "#isupper() returns true if all characters are uppercase, else returns false\n",
    "str = \"THIS IS STRING EXAMPLE....WOW!!!\"; \n",
    "print (str.isupper())\n",
    "\n",
    "#join() returns a string in which the string elements of sequence are joined by str separator.\n",
    "s = \"  *  *  \";\n",
    "seq = (\"abc\", \"bttt\", \"cqweqe\"); # This is sequence of strings.\n",
    "print (s.join(seq))\n",
    "\n",
    "#len() returns length of the given string\n",
    "str = \"this is string example....wow!!!\";\n",
    "print (\"Length of the string: \", len(str))\n"
   ]
  },
  {
   "cell_type": "code",
   "execution_count": 5,
   "id": "64cee8c1",
   "metadata": {},
   "outputs": [
    {
     "name": "stdout",
     "output_type": "stream",
     "text": [
      "this is string example....wow!!!     \n",
      "this is string example....wow!!!999999\n",
      "88888888this is string example....wow!!!\n",
      "this is string example....wow!!!\n",
      "THIS IS STRING EXAMPLE....WOW!!!\n",
      "Max character: w\n",
      "Min character: a\n",
      "thwas was string example....wow!!! thwas is really string\n",
      "THIS IS STRING EXAMPLE....WOW!!!\n",
      "True\n"
     ]
    }
   ],
   "source": [
    "#Even more functions such as lstrip(), lower(), upper(), max(), min(), replace(),\n",
    "#swapcase(), startswith()\n",
    "\n",
    "#lstrip() returns a copy of the string in which all chars have been stripped from \n",
    "#the beginning of the string (default whitespace characters)\n",
    "str = \"     this is string example....wow!!!     \"\n",
    "print (str.lstrip())\n",
    "str = \"88888888this is string example....wow!!!999999\";\n",
    "print (str.lstrip('8'))\n",
    "print (str.rstrip('9'))\n",
    "\n",
    "#lower() returns copt of string with all lowercase characters\n",
    "str = \"THIS IS STRING EXAMPLE....WOW!!!\"\n",
    "print (str.lower())\n",
    "\n",
    "#upper() returns copt of string with all uppercase characters\n",
    "str = \"this is string example....wow!!!\"\n",
    "print (str.upper())\n",
    "\n",
    "#max() returns largest character\n",
    "str = \"check....wow!!!\"\n",
    "print (\"Max character: \" + max(str))\n",
    "\n",
    "#min() returns smallest character\n",
    "str = \"example\"\n",
    "print (\"Min character: \" + min(str))\n",
    "\n",
    "#replace() finds and replaces a string with the given input\n",
    "#Syntax is str.replace(old, new[, max])\n",
    "str = \"this is string example....wow!!! this is really string\"\n",
    "print (str.replace(\"is\", \"was\", 3))\n",
    "\n",
    "#swapcase() swaps string from uppercase to lowercase and vice versa\n",
    "str = \"this is string example....wow!!!\";\n",
    "print (str.swapcase())\n",
    "\n",
    "#startswith() returns true if string starts with given input\n",
    "str = \"this is string example....wow!!!\";\n",
    "print (str.startswith( 'is', 2, 4 ))"
   ]
  },
  {
   "cell_type": "code",
   "execution_count": 6,
   "id": "c41c8c7b",
   "metadata": {},
   "outputs": [
    {
     "name": "stdout",
     "output_type": "stream",
     "text": [
      "Enter a number: 25\n",
      "Number is odd\n"
     ]
    }
   ],
   "source": [
    "#Check whether number is odd or even\n",
    "num = int(input(\"Enter a number: \"))  \n",
    "if num%2 == 0:  \n",
    "  print(\"Number is even\")\n",
    "else:\n",
    "  print(\"Number is odd\")"
   ]
  },
  {
   "cell_type": "code",
   "execution_count": 7,
   "id": "6c483d88",
   "metadata": {},
   "outputs": [
    {
     "name": "stdout",
     "output_type": "stream",
     "text": [
      "Enter a: 3\n",
      "Enter b: 2\n",
      "Enter c: 5\n",
      "c is largest\n"
     ]
    }
   ],
   "source": [
    "#Program to find largest of 3 numbers\n",
    "a = int(input(\"Enter a: \"))\n",
    "b = int(input(\"Enter b: \"))\n",
    "c = int(input(\"Enter c: \"))\n",
    "if a>b and a>c:\n",
    "  print(\"a is largest\")\n",
    "elif b>c:\n",
    "  print(\"b is largest\")\n",
    "else:\n",
    "  print(\"c is largest\")"
   ]
  },
  {
   "cell_type": "code",
   "execution_count": 8,
   "id": "df0d4aae",
   "metadata": {},
   "outputs": [
    {
     "name": "stdout",
     "output_type": "stream",
     "text": [
      "Enter your age? 33\n",
      "You are eligible to vote !!\n"
     ]
    }
   ],
   "source": [
    "#Program to check eligibility for voting\n",
    "age = int (input(\"Enter your age? \"))\n",
    "if age>=18:\n",
    "  print(\"You are eligible to vote !!\")\n",
    "else:\n",
    "  print(\"Sorry! you have to wait !!\")"
   ]
  },
  {
   "cell_type": "code",
   "execution_count": 9,
   "id": "ce51c15b",
   "metadata": {},
   "outputs": [
    {
     "name": "stdout",
     "output_type": "stream",
     "text": [
      "list1[0]:  maths\n",
      "list2[1:3]:  [2, 3]\n",
      "Value available at index 2 : \n",
      "1997\n",
      "New value available at index 2 : \n",
      "999999\n",
      "After deleting value at index 2 :\n",
      "['maths', 'biology', 2000]\n"
     ]
    }
   ],
   "source": [
    "#Printing lists using their index\n",
    "list1 = ['maths', 'biology', 1997, 2000]\n",
    "list2 = [1, 2, 3, 4, 5, 6, 7 ]\n",
    "print (\"list1[0]: \", list1[0])\n",
    "print (\"list2[1:3]: \", list2[1:3])\n",
    "\n",
    "#Updating a list value\n",
    "print (\"Value available at index 2 : \")\n",
    "print (list1[2])\n",
    "list1[2] = 999999;\n",
    "print (\"New value available at index 2 : \")\n",
    "print (list1[2])\n",
    "\n",
    "#Deleting a list value\n",
    "del(list1[2])\n",
    "print (\"After deleting value at index 2 :\")\n",
    "print (list1)"
   ]
  },
  {
   "cell_type": "code",
   "execution_count": 10,
   "id": "ae1d4a19",
   "metadata": {},
   "outputs": [
    {
     "name": "stdout",
     "output_type": "stream",
     "text": [
      "List before insertion :  [123, 'adarsh', 'raj', 'amar']\n",
      "Final List :  [123, 'adarsh', 'raj', 2009, 'amar']\n",
      "List after popping last element :  [123, 'adarsh', 'raj', 2009]\n",
      "List after popping element from mentioned index:  [123, 'adarsh', 2009]\n"
     ]
    }
   ],
   "source": [
    "#To perform list operations using functions such as \n",
    "#insert(), pop(), remove(), reverse(), sort()\n",
    "\n",
    "#insert()\n",
    "aList = [123, 'adarsh', 'raj', 'amar']\n",
    "print(\"List before insertion : \",aList)\n",
    "aList.insert( 3, 2009)\n",
    "print (\"Final List : \", aList)\n",
    "\n",
    "#pop()\n",
    "aList.pop()\n",
    "print(\"List after popping last element : \",aList)\n",
    "aList.pop(2)\n",
    "print(\"List after popping element from mentioned index: \",aList)"
   ]
  },
  {
   "cell_type": "code",
   "execution_count": null,
   "id": "8d132795",
   "metadata": {},
   "outputs": [],
   "source": []
  }
 ],
 "metadata": {
  "kernelspec": {
   "display_name": "Python 3",
   "language": "python",
   "name": "python3"
  },
  "language_info": {
   "codemirror_mode": {
    "name": "ipython",
    "version": 3
   },
   "file_extension": ".py",
   "mimetype": "text/x-python",
   "name": "python",
   "nbconvert_exporter": "python",
   "pygments_lexer": "ipython3",
   "version": "3.8.8"
  }
 },
 "nbformat": 4,
 "nbformat_minor": 5
}
