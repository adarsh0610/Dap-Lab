{
 "cells": [
  {
   "cell_type": "code",
   "execution_count": 1,
   "id": "87a1f871",
   "metadata": {},
   "outputs": [
    {
     "name": "stdout",
     "output_type": "stream",
     "text": [
      "[1 2 3]\n",
      "[[ 1  2  3  4]\n",
      " [ 5  6  7  8]\n",
      " [ 9 10 11 12]]\n"
     ]
    }
   ],
   "source": [
    "import numpy as np\n",
    "\n",
    "a = np.array([1, 2, 3])\n",
    "b = np.array([[1 , 2, 3, 4], [5, 6, 7, 8], [9, 10, 11, 12]])\n",
    "print(a)\n",
    "print(b)"
   ]
  },
  {
   "cell_type": "code",
   "execution_count": 2,
   "id": "0d55ae73",
   "metadata": {},
   "outputs": [
    {
     "name": "stdout",
     "output_type": "stream",
     "text": [
      "[0. 0.]\n",
      "[1. 1. 1. 1.]\n",
      "[1 1]\n",
      "[1. 1. 1. 1.]\n",
      "[0 1 2 3 4 5 6]\n",
      "[2 4 6 8]\n",
      "[2 4 8]\n",
      "[19 22 34 14 55 76 47  8]\n",
      "[ 8 14 19 22 34 47 55 76]\n"
     ]
    }
   ],
   "source": [
    "#Returns a new array of given shape and type with zeros\n",
    "c=np.zeros(2)\n",
    "print(c)\n",
    "\n",
    "#Returns a new array of given shape and type with ones\n",
    "d=np.ones(4)\n",
    "print(d)\n",
    "\n",
    "e = np.ones(2, dtype=int)\n",
    "print(e)\n",
    "\n",
    "#Returns a new array of given shape and type without initializing entries\n",
    "f=np.empty([4])\n",
    "print(f)\n",
    "\n",
    "#Returns an array with evenly spaced elements as per the interval\n",
    "g=np.arange(7)\n",
    "print(g)\n",
    "\n",
    "h=np.arange(2,9,2)\n",
    "print(h)\n",
    "\n",
    "#Returns a new array with the deletion of sub-arrays\n",
    "i=np.delete(h, 2)\n",
    "print(i)\n",
    "\n",
    "#Returns a sorted array in ascending order\n",
    "z = np.array([19, 22, 34, 14, 55, 76, 47, 8])\n",
    "print(z)\n",
    "j=np.sort(z)\n",
    "print(j)"
   ]
  },
  {
   "cell_type": "code",
   "execution_count": 3,
   "id": "42384fe8",
   "metadata": {},
   "outputs": [
    {
     "name": "stdout",
     "output_type": "stream",
     "text": [
      "[[1 3 2]\n",
      " [4 5 6]]\n",
      "dimensions =  2 \n",
      "size =  6 \n",
      "shape = (2, 3)\n",
      "\n",
      "After reshaping\n",
      " [[1 3]\n",
      " [2 4]\n",
      " [5 6]]\n"
     ]
    }
   ],
   "source": [
    "arr = np.array([[1, 3, 2], [4, 5, 6]])\n",
    "a=arr.ndim #dimension\n",
    "b=arr.size #size\n",
    "c=arr.shape #shape\n",
    "print(arr) \n",
    "print(\"dimensions = \",a,\"\\nsize = \",b,\"\\nshape =\",c)\n",
    "\n",
    "#Shapes an array without changing the data of the array.\n",
    "y = arr.reshape(3,2)\n",
    "print(\"\\nAfter reshaping\\n\",y)"
   ]
  },
  {
   "cell_type": "code",
   "execution_count": 4,
   "id": "f03b97fa",
   "metadata": {},
   "outputs": [
    {
     "name": "stdout",
     "output_type": "stream",
     "text": [
      "A=  4\n",
      "B=  [2 1 3]\n",
      "\n",
      "After Addition = [6 5 7]\n",
      "After Subtraction = [-2 -3 -1]\n",
      "After Multiplcation = [ 8  4 12]\n",
      "After Division = [0.5  0.25 0.75]\n",
      "After Division = [0.2 0.1 0.3]\n",
      "[2.         4.         1.33333333]\n",
      "after ^2 =  16\n"
     ]
    }
   ],
   "source": [
    "a=np.array(4)\n",
    "print(\"A= \",a)\n",
    "b=np.array([2,1,3])\n",
    "print(\"B= \", b)\n",
    "\n",
    "#Addition\n",
    "addition= np.add(a,b)\n",
    "print(\"\\nAfter Addition =\", addition)\n",
    "\n",
    "#Subtraction\n",
    "sub=np.subtract(b,a)\n",
    "print(\"After Subtraction =\",sub)\n",
    "\n",
    "#Multiplication\n",
    "mul=np.multiply (a,b)\n",
    "print(\"After Multiplcation =\",mul)\n",
    "\n",
    "#Division\n",
    "div=np.divide (b,a)\n",
    "print(\"After Division =\",div)\n",
    "\n",
    "div1=np.divide (b,10)\n",
    "print(\"After Division =\",div1)\n",
    "\n",
    "#Reciprocal\n",
    "rec=np.reciprocal(div) \n",
    "print(rec)\n",
    "\n",
    "#Power\n",
    "pow=np.power(a,2)\n",
    "print(\"after ^2 = \", pow)\n"
   ]
  },
  {
   "cell_type": "code",
   "execution_count": 5,
   "id": "7db2cea4",
   "metadata": {},
   "outputs": [
    {
     "name": "stdout",
     "output_type": "stream",
     "text": [
      "values of A = [1 5 7]\n",
      "values of B = [3 9 4]\n",
      "\n",
      "values of MOD = [1 5 3]\n",
      "values of REMAINDER = [1 5 3]\n",
      "\n",
      " [-0.-5.6j  0.+0.2j 11.+0.j   1.+1.j ]\n",
      "\n",
      "real= [-0.  0. 11.  1.]\n",
      "imaginary= [-5.6  0.2  0.   1. ]\n",
      "Conjugate= [-0.+5.6j  0.-0.2j 11.-0.j   1.-1.j ]\n"
     ]
    }
   ],
   "source": [
    "a= np.array ([1,5,7])\n",
    "b= np.array ([3,9,4])\n",
    "\n",
    "print(\"values of A =\", a)\n",
    "print(\"values of B =\", b)\n",
    "\n",
    "m=np.mod(a,b)\n",
    "r=np.remainder(a,b)\n",
    "print(\"\\nvalues of MOD =\", m)\n",
    "print(\"values of REMAINDER =\", r)\n",
    "\n",
    "#Real and Imaginary numbers\n",
    "c=np.array([-5.6j, 0.2j,11, 1+1j])\n",
    "print(\"\\n\",c)\n",
    "\n",
    "#Returns only real part\n",
    "print(\"\\nreal=\",np.real(c))\n",
    "\n",
    "#Returns only imaginary part\n",
    "print(\"imaginary=\",np.imag(c))\n",
    "\n",
    "#Returns the conjugate\n",
    "print(\"Conjugate=\", np.conj(c))"
   ]
  },
  {
   "cell_type": "code",
   "execution_count": 6,
   "id": "d2f641d6",
   "metadata": {},
   "outputs": [
    {
     "name": "stdout",
     "output_type": "stream",
     "text": [
      "\n",
      " [  1.1   -5.32 123.    -0.56  25.5   32.  ]\n",
      "\n",
      "after rounding up\n",
      " [  1.  -5. 123.  -1.  26.  32.]\n",
      "\n",
      "after rounding up to 1st decimal value\n",
      " [  1.1  -5.3 123.   -0.6  25.5  32. ]\n",
      "\n",
      "Floor round off\n",
      "[  1.  -6. 123.  -1.  25.  32.]\n",
      "\n",
      "Ceiling round off\n",
      "[  2.  -5. 123.  -0.  26.  32.]\n"
     ]
    }
   ],
   "source": [
    "d=np.array ([1.1,-5.32,123,-0.56,25.5,32])\n",
    "print(\"\\n\",d)\n",
    "print(\"\\nafter rounding up\\n\", np.around(d))\n",
    "print(\"\\nafter rounding up to 1st decimal value\\n\", np.around(d,decimals=1))\n",
    "\n",
    "#Floor round off\n",
    "print(\"\\nFloor round off\")\n",
    "print(np.floor(d))\n",
    "\n",
    "#Ceiling round off\n",
    "print(\"\\nCeiling round off\")\n",
    "print(np.ceil(d))"
   ]
  },
  {
   "cell_type": "code",
   "execution_count": null,
   "id": "93a19e30",
   "metadata": {},
   "outputs": [],
   "source": []
  }
 ],
 "metadata": {
  "kernelspec": {
   "display_name": "Python 3",
   "language": "python",
   "name": "python3"
  },
  "language_info": {
   "codemirror_mode": {
    "name": "ipython",
    "version": 3
   },
   "file_extension": ".py",
   "mimetype": "text/x-python",
   "name": "python",
   "nbconvert_exporter": "python",
   "pygments_lexer": "ipython3",
   "version": "3.8.8"
  }
 },
 "nbformat": 4,
 "nbformat_minor": 5
}
