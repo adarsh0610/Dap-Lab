{
 "cells": [
  {
   "cell_type": "code",
   "execution_count": 5,
   "id": "5dd96793",
   "metadata": {},
   "outputs": [
    {
     "name": "stdout",
     "output_type": "stream",
     "text": [
      "17\n"
     ]
    }
   ],
   "source": [
    "a=17\n",
    "print(a)"
   ]
  },
  {
   "cell_type": "code",
   "execution_count": 6,
   "id": "717bbab4",
   "metadata": {},
   "outputs": [
    {
     "name": "stdout",
     "output_type": "stream",
     "text": [
      "adarsh\n"
     ]
    }
   ],
   "source": [
    "name=\"adarsh\"\n",
    "print(name)"
   ]
  },
  {
   "cell_type": "code",
   "execution_count": 7,
   "id": "5140b768",
   "metadata": {},
   "outputs": [
    {
     "name": "stdout",
     "output_type": "stream",
     "text": [
      "Enter your name adarsh\n",
      "Welcome adarsh\n"
     ]
    }
   ],
   "source": [
    "username = input(\"Enter your name \")\n",
    "print(\"Welcome\",name)"
   ]
  },
  {
   "cell_type": "code",
   "execution_count": 8,
   "id": "28ec9eb5",
   "metadata": {},
   "outputs": [
    {
     "name": "stdout",
     "output_type": "stream",
     "text": [
      "a is of type <class 'int'> \n",
      "b is of type <class 'str'>\n",
      "6\n"
     ]
    }
   ],
   "source": [
    "a=2\n",
    "b='adarsh'\n",
    "print(\"a is of type\",type(a),\"\\nb is of type\",type(b))\n",
    "print(len(b))"
   ]
  },
  {
   "cell_type": "code",
   "execution_count": 9,
   "id": "6aec2bd6",
   "metadata": {},
   "outputs": [
    {
     "name": "stdout",
     "output_type": "stream",
     "text": [
      "True\n"
     ]
    }
   ],
   "source": [
    "a=11\n",
    "print(bool(a))"
   ]
  },
  {
   "cell_type": "code",
   "execution_count": 11,
   "id": "60911cf3",
   "metadata": {},
   "outputs": [
    {
     "name": "stdout",
     "output_type": "stream",
     "text": [
      "0.5 40\n"
     ]
    }
   ],
   "source": [
    "a=40\n",
    "b=80\n",
    "c=a/b\n",
    "d=a%b\n",
    "print(c,d)"
   ]
  },
  {
   "cell_type": "code",
   "execution_count": 12,
   "id": "d27b3273",
   "metadata": {},
   "outputs": [
    {
     "name": "stdout",
     "output_type": "stream",
     "text": [
      "6 A F\n"
     ]
    }
   ],
   "source": [
    "string=\"ABCDEF\"\n",
    "print(len(string),string[0],string[len(string)-1])"
   ]
  },
  {
   "cell_type": "code",
   "execution_count": 14,
   "id": "936ad73f",
   "metadata": {},
   "outputs": [
    {
     "name": "stdout",
     "output_type": "stream",
     "text": [
      "Quick Functions.\n",
      "\n",
      "Choose your option from the list given below:\n",
      "1. Basic Calculations\n",
      "2. ASCII Calculations\n",
      "3. String\n",
      "4. Basic Print Statement\n",
      "5. Datatypes\n",
      "6. Exit\n",
      "1\n",
      "\n",
      "Welcome to Basic Calculator. Choose your option from the list given below\n",
      "1. Add\n",
      "2. Subtract\n",
      "3. Multiply\n",
      "4. Divide\n",
      "5. Modulo\n",
      "1\n",
      "Enter first number 2\n",
      "Enter second number 3\n",
      "Sum of the given numbers is  5\n",
      "\n",
      "Choose your option from the list given below:\n",
      "1. Basic Calculations\n",
      "2. ASCII Calculations\n",
      "3. String\n",
      "4. Basic Print Statement\n",
      "5. Datatypes\n",
      "6. Exit\n",
      "6\n",
      "Bye\n"
     ]
    }
   ],
   "source": [
    "\n",
    "print(\"Quick Functions.\")\n",
    "while True :\n",
    "    var=int(input(\"\\nChoose your option from the list given below:\\n1. Basic Calculations\\n2. ASCII Calculations\\n3. String\\n4. Basic Print Statement\\n5. Datatypes\\n6. Exit\\n\"))\n",
    "    if(var==1):\n",
    "        calc1=int(input(\"\\nWelcome to Basic Calculator. Choose your option from the list given below\\n1. Add\\n2. Subtract\\n3. Multiply\\n4. Divide\\n5. Modulo\\n\"))\n",
    "        a=int(input(\"Enter first number \"))\n",
    "        b=int(input(\"Enter second number \"))\n",
    "        if(calc1==1):\n",
    "            print(\"Sum of the given numbers is \",a+b)\n",
    "        elif(calc1==2):\n",
    "            print(\"Difference of the given numbers is \",a-b)\n",
    "        elif(calc1==3):\n",
    "            print(\"Product of the given numbers is \",a*b)\n",
    "        elif(calc1==4):\n",
    "            print(\"Quotient of the given numbers is \",a/b)\n",
    "        elif(calc1==5):\n",
    "            print(\"Remainder of the given numbers is \",a%b)\n",
    "        else:\n",
    "            print(\"Incorrect choice.\")\n",
    "    elif(var==2):\n",
    "        calc2=int(input(\"Welcome to ASCII Calculator. Choose your option from the list given below\\n1. Character to ASCII\\n2. ASCII to Character\\n\"))\n",
    "        if(calc2==1):\n",
    "            c=input(\"Input Character \")\n",
    "            print(ord(c))\n",
    "        elif(calc2==2):\n",
    "            d=int(input(\"Input Integer \"))\n",
    "            print(chr(d))\n",
    "        else:\n",
    "            print(\"Incorrect option.\")\n",
    "    elif(var==3):\n",
    "        string=input(\"Enter a string \")\n",
    "        print(\"The length of the string is\",len(string),\"\\nThe first character is\",string[0],\"\\nThe last character is\",string[len(string)-1])\n",
    "    elif(var==4):\n",
    "        name=input(\"Input your name \")\n",
    "        print(\"Your name is \",name)\n",
    "    elif(var==5):\n",
    "        data1=\"String\"\n",
    "        data2=10\n",
    "        data3=14.5\n",
    "        print(\"The type of String is\",type(data1),\"\\nThe type of Integer is\",type(data2),\"\\nThe type of Float is\",type(data3))\n",
    "    elif(var==6):\n",
    "        print(\"Bye\")\n",
    "        break\n",
    "    else:\n",
    "        print(\"Incorrect choice.\")\n"
   ]
  },
  {
   "cell_type": "code",
   "execution_count": null,
   "id": "0b5eef95",
   "metadata": {},
   "outputs": [],
   "source": []
  }
 ],
 "metadata": {
  "kernelspec": {
   "display_name": "Python 3",
   "language": "python",
   "name": "python3"
  },
  "language_info": {
   "codemirror_mode": {
    "name": "ipython",
    "version": 3
   },
   "file_extension": ".py",
   "mimetype": "text/x-python",
   "name": "python",
   "nbconvert_exporter": "python",
   "pygments_lexer": "ipython3",
   "version": "3.8.8"
  }
 },
 "nbformat": 4,
 "nbformat_minor": 5
}
