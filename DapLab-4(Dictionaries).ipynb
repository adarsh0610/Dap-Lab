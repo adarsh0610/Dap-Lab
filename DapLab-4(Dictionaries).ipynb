{
 "cells": [
  {
   "cell_type": "code",
   "execution_count": 1,
   "id": "8023ea4b",
   "metadata": {},
   "outputs": [
    {
     "name": "stdout",
     "output_type": "stream",
     "text": [
      "shabnam\n",
      "phd\n"
     ]
    }
   ],
   "source": [
    "dict={'name':'shabnam','designation':'AsP','qual':'phd','univ':'cmr'}\n",
    "print(dict['name'])\n",
    "print(dict['qual'])\n"
   ]
  },
  {
   "cell_type": "code",
   "execution_count": 2,
   "id": "14f04188",
   "metadata": {
    "scrolled": true
   },
   "outputs": [
    {
     "name": "stdout",
     "output_type": "stream",
     "text": [
      "sharma\n",
      "cse7sem\n"
     ]
    }
   ],
   "source": [
    "dict={'name':'Rahul','designation':'AsP','qual':'phd','univ':'cmr'}\n",
    "dict['name']='sharma'\n",
    "print(dict['name'])\n",
    "dict['class']='cse7sem'\n",
    "print(dict['class'])"
   ]
  },
  {
   "cell_type": "code",
   "execution_count": 3,
   "id": "f23c5f39",
   "metadata": {},
   "outputs": [
    {
     "name": "stdout",
     "output_type": "stream",
     "text": [
      "Adarsh\n",
      "4\n"
     ]
    }
   ],
   "source": [
    "dict={'name':'shabnam','designation':'AsP','qual':'phd','univ':'cmr'}\n",
    "del dict['designation']\n",
    "#print(dict['designation'])\n",
    "dict.clear()\n",
    "#print(dict['name'])\n",
    "del dict\n",
    "dict={'name':'shabnam','designation':'AsP','qual':'phd','univ':'cmr', 'name':'Adarsh'}\n",
    "print(dict['name'])\n",
    "print(len(dict))"
   ]
  },
  {
   "cell_type": "code",
   "execution_count": 4,
   "id": "459d1380",
   "metadata": {},
   "outputs": [
    {
     "name": "stdout",
     "output_type": "stream",
     "text": [
      "dict_values(['Rahul', 'AsP', 'phd', 'cmr'])\n",
      "dict_items([('name', 'Rahul'), ('designation', 'AsP'), ('qual', 'phd'), ('univ', 'cmr')])\n",
      "dict_keys(['name', 'designation', 'qual', 'univ'])\n"
     ]
    }
   ],
   "source": [
    "dict={'name':'shabnam','designation':'AsP','qual':'phd','univ':'cmr', 'name':'Rahul'}\n",
    "print(dict.values())\n",
    "print(dict.items())\n",
    "print(dict.keys())\n"
   ]
  },
  {
   "cell_type": "code",
   "execution_count": 5,
   "id": "d36a79f5",
   "metadata": {},
   "outputs": [
    {
     "name": "stdout",
     "output_type": "stream",
     "text": [
      "Rahul\n",
      "nothing\n"
     ]
    }
   ],
   "source": [
    "dict={'name':'shabnam','designation':'AsP','qual':'phd','univ':'cmr', 'name':'Rahul'}\n",
    "print(dict['name'])\n",
    "print(dict.get('edu',\"nothing\"))"
   ]
  },
  {
   "cell_type": "code",
   "execution_count": 6,
   "id": "c9832065",
   "metadata": {},
   "outputs": [
    {
     "name": "stdout",
     "output_type": "stream",
     "text": [
      "Rahul\n",
      "4\n"
     ]
    }
   ],
   "source": [
    "dict={'name':'shabnam','designation':'AsP','qual':'phd','univ':'cmr', 'name':'Rahul'}\n",
    "dict2=dict.copy()\n",
    "print(dict2['name'])\n",
    "print(len(dict2))"
   ]
  },
  {
   "cell_type": "code",
   "execution_count": 7,
   "id": "025e6766",
   "metadata": {},
   "outputs": [
    {
     "name": "stdout",
     "output_type": "stream",
     "text": [
      "{'name': 'Rahul', 'designation': 'AsP', 'qual': 'phd', 'univ': 'cmr'}\n",
      "{'edu': 'btech-mtech', 'students': '7sem'}\n",
      "{'name': 'Rahul', 'designation': 'AsP', 'qual': 'phd', 'univ': 'cmr', 'edu': 'btech-mtech', 'students': '7sem'}\n"
     ]
    }
   ],
   "source": [
    "dict={'name':'shabnam','designation':'AsP','qual':'phd','univ':'cmr', 'name':'Rahul'}\n",
    "dict2={'edu':'btech-mtech','students':'7sem'}\n",
    "print(dict)\n",
    "print(dict2)\n",
    "dict.update(dict2)\n",
    "print(dict)\n"
   ]
  },
  {
   "cell_type": "code",
   "execution_count": null,
   "id": "7058b96a",
   "metadata": {},
   "outputs": [],
   "source": []
  }
 ],
 "metadata": {
  "kernelspec": {
   "display_name": "Python 3",
   "language": "python",
   "name": "python3"
  },
  "language_info": {
   "codemirror_mode": {
    "name": "ipython",
    "version": 3
   },
   "file_extension": ".py",
   "mimetype": "text/x-python",
   "name": "python",
   "nbconvert_exporter": "python",
   "pygments_lexer": "ipython3",
   "version": "3.8.8"
  }
 },
 "nbformat": 4,
 "nbformat_minor": 5
}
